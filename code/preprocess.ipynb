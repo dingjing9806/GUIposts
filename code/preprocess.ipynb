{
  "cells": [
    {
      "cell_type": "code",
      "execution_count": null,
      "metadata": {
        "id": "DKI3aIz8GiJr"
      },
      "outputs": [],
      "source": [
        ""
      ]
    },
    {
      "cell_type": "code",
      "execution_count": null,
      "metadata": {
        "id": "insfiKrIDpHd"
      },
      "outputs": [],
      "source": [
        "# coding: utf-8\n",
        "\n",
        "import pandas as pd"
      ]
    },
    {
      "cell_type": "code",
      "execution_count": null,
      "metadata": {
        "colab": {
          "base_uri": "https://localhost:8080/"
        },
        "id": "oU61GIlhGmlG",
        "outputId": "285b9ae2-18dd-417b-e495-b7d641ca0fb5"
      },
      "outputs": [
        {
          "output_type": "stream",
          "name": "stdout",
          "text": [
            "Mounted at /content/drive\n"
          ]
        },
        {
          "output_type": "execute_result",
          "data": {
            "text/plain": [
              "['mallet-2.0.8.zip.5',\n",
              " 'mallet-2.0.8.zip.8',\n",
              " 'mallet-2.0.8.zip.4',\n",
              " 'mallet-2.0.8.zip.3',\n",
              " 'mallet-2.0.8.zip.1',\n",
              " 'mallet-2.0.8.zip',\n",
              " 'mallet-2.0.8.zip.6',\n",
              " 'mallet-2.0.8.zip.2',\n",
              " 'mallet-2.0.8.zip.7',\n",
              " 'Colab Notebooks',\n",
              " 'BERTopic-master',\n",
              " 'data1.csv',\n",
              " 'data_4.15.csv',\n",
              " 'data2.gsheet',\n",
              " 'data-delete (2).gsheet',\n",
              " 'data-delete (1).gsheet',\n",
              " 'data-delete.csv',\n",
              " 'data-delete1 (2).gsheet',\n",
              " 'data-delete1.csv',\n",
              " 'data-delete1 (1).gsheet',\n",
              " 'data-delete1.gsheet',\n",
              " 'mallet-2.0.8',\n",
              " 'Topic-Modeling-main',\n",
              " 'Untitled',\n",
              " 'topic1.xlsx',\n",
              " 'file.xlsx',\n",
              " 'text.csv',\n",
              " '124.csv',\n",
              " 'data-delete.gsheet',\n",
              " '611.csv',\n",
              " '612.xls',\n",
              " 'data.csv',\n",
              " 'data614.csv',\n",
              " 'sum.xlsx',\n",
              " 'sum.csv',\n",
              " 'topic.xlsx',\n",
              " 'data617.csv',\n",
              " 'topic617.xlsx',\n",
              " 'title.csv',\n",
              " 'topic--title.xlsx']"
            ]
          },
          "metadata": {},
          "execution_count": 3
        }
      ],
      "source": [
        "import pandas as pd \n",
        "import os\n",
        "\n",
        "#from sklearn.datasets import fetch_20newsgroups\n",
        "#docs = fetch_20newsgroups(subset='all',  remove=('headers', 'footers', 'quotes'))['data']\n",
        "\n",
        "\n",
        "import os\n",
        "from google.colab import drive\n",
        "drive.mount('/content/drive')\n",
        "\n",
        "path = \"/content/drive/My Drive\"\n",
        "\n",
        "os.chdir(path)\n",
        "os.listdir(path)"
      ]
    },
    {
      "cell_type": "code",
      "execution_count": null,
      "metadata": {
        "id": "z9kfzzEfDw9V"
      },
      "outputs": [],
      "source": [
        "df = pd.read_excel('sum.xlsx')"
      ]
    },
    {
      "cell_type": "code",
      "execution_count": null,
      "metadata": {
        "id": "VNKd-dtlDw7C"
      },
      "outputs": [],
      "source": [
        "df1 = df[['Id','Title','Body']]"
      ]
    },
    {
      "cell_type": "code",
      "execution_count": null,
      "metadata": {
        "colab": {
          "base_uri": "https://localhost:8080/",
          "height": 423
        },
        "id": "DpelrBKMDw49",
        "outputId": "72bf0d4f-ba1a-4c09-dfda-479207293a8d"
      },
      "outputs": [
        {
          "output_type": "execute_result",
          "data": {
            "text/plain": [
              "             Id                                              Title  \\\n",
              "0          2872  Possible to \"spin off\" several GUI threads? (N...   \n",
              "1          2933  Create a directly-executable cross-platform GU...   \n",
              "2          3781                  Prototyping a GUI with a customer   \n",
              "3          7035  How to show a GUI message box from a bash scri...   \n",
              "4          9846  Performance critical GUI application (windows,...   \n",
              "...         ...                                                ...   \n",
              "23736  72581617  ubuntu server GUI interface password doesn't work   \n",
              "23737  72581980  Is there a way to use the USB HID to control t...   \n",
              "23738  72583235             Fourier Analysis With Matlab questions   \n",
              "23739  72588311                            Github - language other   \n",
              "23740  72588984        About sendMessage to another background app   \n",
              "\n",
              "                                                    Body  \n",
              "0      <p><strong>My Goal</strong></p>\\n\\n<p>I would ...  \n",
              "1      <p>Python works on multiple platforms and can ...  \n",
              "2      <p>When prototyping initial GUI functionality ...  \n",
              "3      <p>I'm writing a few little bash scripts under...  \n",
              "4      <p>I've been tasked with updating a series of ...  \n",
              "...                                                  ...  \n",
              "23736  <p>I'm using Ubuntu 22.04 OS server. It has no...  \n",
              "23737  <p>I have a USB(1.1) audio project using a MCU...  \n",
              "23738  <p>I having huge difficulty to do the followin...  \n",
              "23739  <p>I've tried searching all over google for th...  \n",
              "23740  <p>I have got the target app's &quot;hwnd&quot...  \n",
              "\n",
              "[23741 rows x 3 columns]"
            ],
            "text/html": [
              "\n",
              "  <div id=\"df-096e4174-5746-44e8-9c0c-d39024025aa7\">\n",
              "    <div class=\"colab-df-container\">\n",
              "      <div>\n",
              "<style scoped>\n",
              "    .dataframe tbody tr th:only-of-type {\n",
              "        vertical-align: middle;\n",
              "    }\n",
              "\n",
              "    .dataframe tbody tr th {\n",
              "        vertical-align: top;\n",
              "    }\n",
              "\n",
              "    .dataframe thead th {\n",
              "        text-align: right;\n",
              "    }\n",
              "</style>\n",
              "<table border=\"1\" class=\"dataframe\">\n",
              "  <thead>\n",
              "    <tr style=\"text-align: right;\">\n",
              "      <th></th>\n",
              "      <th>Id</th>\n",
              "      <th>Title</th>\n",
              "      <th>Body</th>\n",
              "    </tr>\n",
              "  </thead>\n",
              "  <tbody>\n",
              "    <tr>\n",
              "      <th>0</th>\n",
              "      <td>2872</td>\n",
              "      <td>Possible to \"spin off\" several GUI threads? (N...</td>\n",
              "      <td>&lt;p&gt;&lt;strong&gt;My Goal&lt;/strong&gt;&lt;/p&gt;\\n\\n&lt;p&gt;I would ...</td>\n",
              "    </tr>\n",
              "    <tr>\n",
              "      <th>1</th>\n",
              "      <td>2933</td>\n",
              "      <td>Create a directly-executable cross-platform GU...</td>\n",
              "      <td>&lt;p&gt;Python works on multiple platforms and can ...</td>\n",
              "    </tr>\n",
              "    <tr>\n",
              "      <th>2</th>\n",
              "      <td>3781</td>\n",
              "      <td>Prototyping a GUI with a customer</td>\n",
              "      <td>&lt;p&gt;When prototyping initial GUI functionality ...</td>\n",
              "    </tr>\n",
              "    <tr>\n",
              "      <th>3</th>\n",
              "      <td>7035</td>\n",
              "      <td>How to show a GUI message box from a bash scri...</td>\n",
              "      <td>&lt;p&gt;I'm writing a few little bash scripts under...</td>\n",
              "    </tr>\n",
              "    <tr>\n",
              "      <th>4</th>\n",
              "      <td>9846</td>\n",
              "      <td>Performance critical GUI application (windows,...</td>\n",
              "      <td>&lt;p&gt;I've been tasked with updating a series of ...</td>\n",
              "    </tr>\n",
              "    <tr>\n",
              "      <th>...</th>\n",
              "      <td>...</td>\n",
              "      <td>...</td>\n",
              "      <td>...</td>\n",
              "    </tr>\n",
              "    <tr>\n",
              "      <th>23736</th>\n",
              "      <td>72581617</td>\n",
              "      <td>ubuntu server GUI interface password doesn't work</td>\n",
              "      <td>&lt;p&gt;I'm using Ubuntu 22.04 OS server. It has no...</td>\n",
              "    </tr>\n",
              "    <tr>\n",
              "      <th>23737</th>\n",
              "      <td>72581980</td>\n",
              "      <td>Is there a way to use the USB HID to control t...</td>\n",
              "      <td>&lt;p&gt;I have a USB(1.1) audio project using a MCU...</td>\n",
              "    </tr>\n",
              "    <tr>\n",
              "      <th>23738</th>\n",
              "      <td>72583235</td>\n",
              "      <td>Fourier Analysis With Matlab questions</td>\n",
              "      <td>&lt;p&gt;I having huge difficulty to do the followin...</td>\n",
              "    </tr>\n",
              "    <tr>\n",
              "      <th>23739</th>\n",
              "      <td>72588311</td>\n",
              "      <td>Github - language other</td>\n",
              "      <td>&lt;p&gt;I've tried searching all over google for th...</td>\n",
              "    </tr>\n",
              "    <tr>\n",
              "      <th>23740</th>\n",
              "      <td>72588984</td>\n",
              "      <td>About sendMessage to another background app</td>\n",
              "      <td>&lt;p&gt;I have got the target app's &amp;quot;hwnd&amp;quot...</td>\n",
              "    </tr>\n",
              "  </tbody>\n",
              "</table>\n",
              "<p>23741 rows × 3 columns</p>\n",
              "</div>\n",
              "      <button class=\"colab-df-convert\" onclick=\"convertToInteractive('df-096e4174-5746-44e8-9c0c-d39024025aa7')\"\n",
              "              title=\"Convert this dataframe to an interactive table.\"\n",
              "              style=\"display:none;\">\n",
              "        \n",
              "  <svg xmlns=\"http://www.w3.org/2000/svg\" height=\"24px\"viewBox=\"0 0 24 24\"\n",
              "       width=\"24px\">\n",
              "    <path d=\"M0 0h24v24H0V0z\" fill=\"none\"/>\n",
              "    <path d=\"M18.56 5.44l.94 2.06.94-2.06 2.06-.94-2.06-.94-.94-2.06-.94 2.06-2.06.94zm-11 1L8.5 8.5l.94-2.06 2.06-.94-2.06-.94L8.5 2.5l-.94 2.06-2.06.94zm10 10l.94 2.06.94-2.06 2.06-.94-2.06-.94-.94-2.06-.94 2.06-2.06.94z\"/><path d=\"M17.41 7.96l-1.37-1.37c-.4-.4-.92-.59-1.43-.59-.52 0-1.04.2-1.43.59L10.3 9.45l-7.72 7.72c-.78.78-.78 2.05 0 2.83L4 21.41c.39.39.9.59 1.41.59.51 0 1.02-.2 1.41-.59l7.78-7.78 2.81-2.81c.8-.78.8-2.07 0-2.86zM5.41 20L4 18.59l7.72-7.72 1.47 1.35L5.41 20z\"/>\n",
              "  </svg>\n",
              "      </button>\n",
              "      \n",
              "  <style>\n",
              "    .colab-df-container {\n",
              "      display:flex;\n",
              "      flex-wrap:wrap;\n",
              "      gap: 12px;\n",
              "    }\n",
              "\n",
              "    .colab-df-convert {\n",
              "      background-color: #E8F0FE;\n",
              "      border: none;\n",
              "      border-radius: 50%;\n",
              "      cursor: pointer;\n",
              "      display: none;\n",
              "      fill: #1967D2;\n",
              "      height: 32px;\n",
              "      padding: 0 0 0 0;\n",
              "      width: 32px;\n",
              "    }\n",
              "\n",
              "    .colab-df-convert:hover {\n",
              "      background-color: #E2EBFA;\n",
              "      box-shadow: 0px 1px 2px rgba(60, 64, 67, 0.3), 0px 1px 3px 1px rgba(60, 64, 67, 0.15);\n",
              "      fill: #174EA6;\n",
              "    }\n",
              "\n",
              "    [theme=dark] .colab-df-convert {\n",
              "      background-color: #3B4455;\n",
              "      fill: #D2E3FC;\n",
              "    }\n",
              "\n",
              "    [theme=dark] .colab-df-convert:hover {\n",
              "      background-color: #434B5C;\n",
              "      box-shadow: 0px 1px 3px 1px rgba(0, 0, 0, 0.15);\n",
              "      filter: drop-shadow(0px 1px 2px rgba(0, 0, 0, 0.3));\n",
              "      fill: #FFFFFF;\n",
              "    }\n",
              "  </style>\n",
              "\n",
              "      <script>\n",
              "        const buttonEl =\n",
              "          document.querySelector('#df-096e4174-5746-44e8-9c0c-d39024025aa7 button.colab-df-convert');\n",
              "        buttonEl.style.display =\n",
              "          google.colab.kernel.accessAllowed ? 'block' : 'none';\n",
              "\n",
              "        async function convertToInteractive(key) {\n",
              "          const element = document.querySelector('#df-096e4174-5746-44e8-9c0c-d39024025aa7');\n",
              "          const dataTable =\n",
              "            await google.colab.kernel.invokeFunction('convertToInteractive',\n",
              "                                                     [key], {});\n",
              "          if (!dataTable) return;\n",
              "\n",
              "          const docLinkHtml = 'Like what you see? Visit the ' +\n",
              "            '<a target=\"_blank\" href=https://colab.research.google.com/notebooks/data_table.ipynb>data table notebook</a>'\n",
              "            + ' to learn more about interactive tables.';\n",
              "          element.innerHTML = '';\n",
              "          dataTable['output_type'] = 'display_data';\n",
              "          await google.colab.output.renderOutput(dataTable, element);\n",
              "          const docLink = document.createElement('div');\n",
              "          docLink.innerHTML = docLinkHtml;\n",
              "          element.appendChild(docLink);\n",
              "        }\n",
              "      </script>\n",
              "    </div>\n",
              "  </div>\n",
              "  "
            ]
          },
          "metadata": {},
          "execution_count": 6
        }
      ],
      "source": [
        "df1"
      ]
    },
    {
      "cell_type": "code",
      "execution_count": null,
      "metadata": {
        "colab": {
          "base_uri": "https://localhost:8080/"
        },
        "id": "xpiyHPlJDw26",
        "outputId": "fe226845-cc5d-4890-a3a1-28d106c2e644"
      },
      "outputs": [
        {
          "output_type": "stream",
          "name": "stderr",
          "text": [
            "/usr/local/lib/python3.7/dist-packages/ipykernel_launcher.py:1: SettingWithCopyWarning: \n",
            "A value is trying to be set on a copy of a slice from a DataFrame.\n",
            "Try using .loc[row_indexer,col_indexer] = value instead\n",
            "\n",
            "See the caveats in the documentation: https://pandas.pydata.org/pandas-docs/stable/user_guide/indexing.html#returning-a-view-versus-a-copy\n",
            "  \"\"\"Entry point for launching an IPython kernel.\n"
          ]
        }
      ],
      "source": [
        "df1[\"Text\"] = df1[\"Title\"]+df1[\"Body\"]"
      ]
    },
    {
      "cell_type": "code",
      "execution_count": null,
      "metadata": {
        "id": "0UNRe4fJHcxs"
      },
      "outputs": [],
      "source": [
        "import nltk "
      ]
    },
    {
      "cell_type": "code",
      "execution_count": null,
      "metadata": {
        "colab": {
          "base_uri": "https://localhost:8080/"
        },
        "id": "0EqLk6DKDw0q",
        "outputId": "d136bc45-e06a-46f9-f21e-f9bc7608f416"
      },
      "outputs": [
        {
          "output_type": "stream",
          "name": "stderr",
          "text": [
            "[nltk_data] Downloading package stopwords to /root/nltk_data...\n",
            "[nltk_data]   Package stopwords is already up-to-date!\n"
          ]
        }
      ],
      "source": [
        "import string\n",
        "import re\n",
        "from nltk.corpus import stopwords\n",
        "nltk.download('stopwords')\n",
        "new_words = [\"didn t\",\"haven t\",\"won t\",\"don t\",\"aren t\",\"isn t\",\"should t\",\"can t\",\"i m\",\n",
        "             \"you re\",\"he s\",\"she s\",\"not\",\"cannot\",\"null\",\"int\",\"ve\"]\n",
        "busy_words =[\"advance\",\"thanks\",\"please\",\"help\"]\n",
        "stop_words =set(stopwords.words('english'))\n",
        "stop_words.update(new_words)\n",
        "stop_words.update(busy_words)\n",
        "def textp(s):\n",
        "    s = s.replace(\"\\\\\",\"\")\n",
        "    s = s.lower()\n",
        "    \n",
        "    ##去除代码块\n",
        "    #code_start =s.find(\"<pre><code>\") \n",
        "    #code_end = s.find(\"</code></pre>\")\n",
        "    #s = s[:code_start]+s[code_end+13:]\n",
        "\n",
        "\n",
        "    code_start =s.find(\"<code>\") \n",
        "    code_end = s.find(\"</code>\")\n",
        "    s = s[:code_start]+s[code_end]\n",
        "   \n",
        "    \n",
        "    ##去除网址\n",
        "    wangzhi_start =s.find(\"<a href\") \n",
        "    wangzhi_end = s.find(\"</a>\")\n",
        "  #  s = s[:wangzhi_start]+s[wangzhi_end+13:]\n",
        "    s = s[:wangzhi_start]+s[wangzhi_end]\n",
        "\n",
        "\n",
        "   ## strong  br code li ul pre ol\n",
        "\n",
        "    ##去除特殊符号\n",
        "    s = s.replace(\"<p>\",\" \")\n",
        "    s = s.replace(\"</p>\",\" \")\n",
        "    s = s.replace(\"\\n\",\" \")\n",
        "    s = s.replace(\"<strong>\",\" \")\n",
        "    s = s.replace(\"</strong>\",\" \")\n",
        "    s = s.replace(\"<br>\",\" \")\n",
        "    s = s.replace(\"</br>\",\" \")\n",
        "    s = s.replace(\"<li>\",\" \")\n",
        "    s = s.replace(\"</li>\",\" \")\n",
        "    s = s.replace(\"<ul>\",\" \")\n",
        "    s = s.replace(\"</ul>\",\" \")\n",
        "    s = s.replace(\"<pre>\",\" \")\n",
        "    s = s.replace(\"</pre>\",\" \")\n",
        "    s = s.replace(\"<ol>\",\" \")\n",
        "    s = s.replace(\"</ol>\",\" \")\n",
        "    ##去除标点符号\n",
        "    for c in string.punctuation:\n",
        "        s=s.replace(c,\" \")\n",
        "\n",
        "    for c in string.digits:\n",
        "        s=s.replace(c,\" \")\n",
        "     \n",
        "\n",
        "    ##去除停用词\n",
        "    for c in stop_words:\n",
        "        w1 = \" \"+c+\" \"\n",
        "        while(w1 in s):\n",
        "            s = s.replace(w1,\" \")\n",
        "        while(s.find(c)==0 and s[len(c)]==\" \"):\n",
        "            s = s[len(c):]\n",
        "    ##保持空格数\n",
        "    s = re.sub(r'\\s{2,}', ' ', s)\n",
        "    return s"
      ]
    },
    {
      "cell_type": "code",
      "execution_count": null,
      "metadata": {
        "colab": {
          "base_uri": "https://localhost:8080/"
        },
        "id": "vNzrg3HfDwyt",
        "outputId": "81971fa1-474e-49bb-e0f7-25f948ad9920"
      },
      "outputs": [
        {
          "output_type": "stream",
          "name": "stderr",
          "text": [
            "/usr/local/lib/python3.7/dist-packages/ipykernel_launcher.py:1: SettingWithCopyWarning: \n",
            "A value is trying to be set on a copy of a slice from a DataFrame.\n",
            "Try using .loc[row_indexer,col_indexer] = value instead\n",
            "\n",
            "See the caveats in the documentation: https://pandas.pydata.org/pandas-docs/stable/user_guide/indexing.html#returning-a-view-versus-a-copy\n",
            "  \"\"\"Entry point for launching an IPython kernel.\n"
          ]
        }
      ],
      "source": [
        "df1[\"newText\"]=df1[\"Text\"].apply(textp)"
      ]
    },
    {
      "cell_type": "code",
      "execution_count": null,
      "metadata": {
        "colab": {
          "base_uri": "https://localhost:8080/",
          "height": 105
        },
        "id": "haTl-_r_Dwwn",
        "outputId": "15564c54-e19b-43b7-9398-ad39289ab1ed"
      },
      "outputs": [
        {
          "output_type": "execute_result",
          "data": {
            "text/plain": [
              "'ubuntu server GUI interface password doesn\\'t work<p>I\\'m using Ubuntu 22.04 OS server. It has no graphical user interface. Then I looked up how to use its visual interface for easy management and control on the internet. Then I was able to complete the work. When I try to enter the password, it repeatedly displays &quot;wrong password.&quot; I\\'m not sure why. Then I looked up how to reset Ubuntu OS on the internet. Everything appears to be in order, but the recovery menu window does not appear. As a result, I am unable to reset the password.</p>\\n<p><a href=\"https://i.stack.imgur.com/Y0xAS.png\" rel=\"nofollow noreferrer\"><img src=\"https://i.stack.imgur.com/Y0xAS.png\" alt=\"enter image description here\" /></a></p>\\n<p><strong>This recovery menu window does not appear.</strong></p>\\n<p><a href=\"https://i.stack.imgur.com/rM4v0.png\" rel=\"nofollow noreferrer\"><img src=\"https://i.stack.imgur.com/rM4v0.png\" alt=\"enter image description here\" /></a></p>\\n'"
            ],
            "application/vnd.google.colaboratory.intrinsic+json": {
              "type": "string"
            }
          },
          "metadata": {},
          "execution_count": 26
        }
      ],
      "source": [
        "df1[\"Text\"][23736]"
      ]
    },
    {
      "cell_type": "code",
      "execution_count": null,
      "metadata": {
        "colab": {
          "base_uri": "https://localhost:8080/",
          "height": 52
        },
        "id": "kfJWHp_nDwud",
        "outputId": "455839cd-b50b-4f51-ebe0-3e9d8c4cfbf2"
      },
      "outputs": [
        {
          "output_type": "execute_result",
          "data": {
            "text/plain": [
              "'ubuntu server gui interface password work using ubuntu os server graphical user interface looked use visual interface easy management control internet able complete work try enter password repeatedly displays quot wrong password quot sure looked reset ubuntu os internet everything appears order recovery menu window appear result unable reset password '"
            ],
            "application/vnd.google.colaboratory.intrinsic+json": {
              "type": "string"
            }
          },
          "metadata": {},
          "execution_count": 27
        }
      ],
      "source": [
        "df1[\"newText\"][23736]"
      ]
    },
    {
      "cell_type": "code",
      "execution_count": null,
      "metadata": {
        "id": "p84y0g1nDwmA"
      },
      "outputs": [],
      "source": [
        "df2=df1[[\"Id\",\"newText\"]]"
      ]
    },
    {
      "cell_type": "code",
      "execution_count": null,
      "metadata": {
        "id": "NfzAGSn1EDHC"
      },
      "outputs": [],
      "source": [
        "df2.to_csv(\"data618.csv\")"
      ]
    },
    {
      "cell_type": "code",
      "execution_count": null,
      "metadata": {
        "id": "x3hKrY7sEC4r"
      },
      "outputs": [],
      "source": [
        ""
      ]
    },
    {
      "cell_type": "code",
      "execution_count": null,
      "metadata": {
        "id": "rxMvBQ83ECuF"
      },
      "outputs": [],
      "source": [
        ""
      ]
    }
  ],
  "metadata": {
    "colab": {
      "name": "preprocess.ipynb",
      "provenance": [],
      "collapsed_sections": []
    },
    "kernelspec": {
      "display_name": "Python 3",
      "name": "python3"
    },
    "language_info": {
      "name": "python"
    }
  },
  "nbformat": 4,
  "nbformat_minor": 0
}